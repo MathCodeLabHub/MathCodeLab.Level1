{
 "cells": [
  {
   "cell_type": "markdown",
   "id": "5858aaf4",
   "metadata": {},
   "source": [
    "# Factorial Calculator and Trailing Zeros 🔢\n",
    "\n",
    "Welcome to this interactive notebook! We'll explore:\n",
    "1. How to calculate factorials\n",
    "2. How numbers grow very quickly\n",
    "3. How to count trailing zeros efficiently\n",
    "\n",
    "Let's get started! Click each code cell and press `Shift+Enter` to run it."
   ]
  },
  {
   "cell_type": "markdown",
   "id": "9637434b",
   "metadata": {},
   "source": [
    "## 1. Creating Our Factorial Function 🧮\n",
    "\n",
    "First, let's write a function that calculates factorials. Remember:\n",
    "- n! means multiply all numbers from 1 to n\n",
    "- Example: 5! = 5 × 4 × 3 × 2 × 1 = 120"
   ]
  },
  {
   "cell_type": "code",
   "execution_count": null,
   "id": "de25a9ab",
   "metadata": {},
   "outputs": [],
   "source": [
    "def calculate_factorial(n):\n",
    "    # Start with 1 (multiplying by 0 would give us 0!)\n",
    "    result = 1\n",
    "    \n",
    "    # Multiply by each number from 1 to n\n",
    "    for i in range(1, n + 1):\n",
    "        result = result * i\n",
    "        print(f\"After multiplying by {i}: {result}\")\n",
    "    \n",
    "    return result\n",
    "\n",
    "# Test the function with a small number\n",
    "print(\"\\nLet's calculate 5!\")\n",
    "result = calculate_factorial(5)\n",
    "print(f\"\\nFinal result: 5! = {result}\")"
   ]
  },
  {
   "cell_type": "markdown",
   "id": "f6c7a173",
   "metadata": {},
   "source": [
    "## 2. Let's Try Some Small Numbers 🎲\n",
    "\n",
    "Now that we have our factorial function, let's test it with a few different numbers.\n",
    "Try changing the numbers in the list below to experiment!"
   ]
  },
  {
   "cell_type": "code",
   "execution_count": null,
   "id": "14a14967",
   "metadata": {},
   "outputs": [
    {
     "ename": "",
     "evalue": "",
     "output_type": "error",
     "traceback": [
      "\u001b[1;31mRunning cells with 'Python 3.11.9' requires the ipykernel package.\n",
      "\u001b[1;31m<a href='command:jupyter.createPythonEnvAndSelectController'>Create a Python Environment</a> with the required packages.\n",
      "\u001b[1;31mOr install 'ipykernel' using the command: 'c:/Users/Kiran/AppData/Local/Microsoft/WindowsApps/python3.11.exe -m pip install ipykernel -U --user --force-reinstall'"
     ]
    }
   ],
   "source": [
    "# Test with a few different numbers\n",
    "test_numbers = [3, 4, 5]\n",
    "\n",
    "for n in test_numbers:\n",
    "    print(f\"\\nCalculating {n}!\")\n",
    "    result = calculate_factorial(n)\n",
    "    print(f\"Final result: {n}! = {result}\")"
   ]
  },
  {
   "cell_type": "markdown",
   "id": "d69ce84a",
   "metadata": {},
   "source": [
    "## 3. Counting Trailing Zeros 🕵️\n",
    "\n",
    "Now let's write a function to count the trailing zeros in our factorial results.\n",
    "We'll use two methods:\n",
    "1. First, the simple way (converting to string)\n",
    "2. Then, the clever way (using powers of 5)"
   ]
  },
  {
   "cell_type": "code",
   "execution_count": null,
   "id": "6d03eb00",
   "metadata": {},
   "outputs": [],
   "source": [
    "# Simple way: Convert to string and count zeros\n",
    "def count_zeros_simple(n):\n",
    "    # Calculate factorial\n",
    "    factorial = calculate_factorial(n)\n",
    "    # Convert to string and count trailing zeros\n",
    "    result_str = str(factorial)\n",
    "    count = len(result_str) - len(result_str.rstrip('0'))\n",
    "    return count, factorial\n",
    "\n",
    "# Clever way: Count powers of 5\n",
    "def count_zeros_clever(n):\n",
    "    zeros = 0\n",
    "    power_of_5 = 5\n",
    "    while n >= power_of_5:\n",
    "        zeros += n // power_of_5\n",
    "        power_of_5 *= 5\n",
    "    return zeros\n",
    "\n",
    "# Test both methods with a number\n",
    "n = 10\n",
    "zeros_simple, factorial = count_zeros_simple(n)\n",
    "zeros_clever = count_zeros_clever(n)\n",
    "\n",
    "print(f\"{n}! = {factorial}\")\n",
    "print(f\"Simple method found {zeros_simple} trailing zeros\")\n",
    "print(f\"Clever method found {zeros_clever} trailing zeros\")"
   ]
  },
  {
   "cell_type": "markdown",
   "id": "161396b7",
   "metadata": {},
   "source": [
    "## 4. Testing with Bigger Numbers! 🚀\n",
    "\n",
    "Now let's try our clever method with some bigger numbers.\n",
    "The simple method might struggle with very large numbers, but our clever method works great!"
   ]
  },
  {
   "cell_type": "code",
   "execution_count": null,
   "id": "bef76f4a",
   "metadata": {},
   "outputs": [],
   "source": [
    "# Test with some bigger numbers\n",
    "test_numbers = [20, 25, 30, 100]\n",
    "\n",
    "print(\"Using our clever method to count zeros:\")\n",
    "for n in test_numbers:\n",
    "    zeros = count_zeros_clever(n)\n",
    "    print(f\"{n}! has {zeros} trailing zeros\")\n",
    "\n",
    "# Challenge: Try changing the numbers above!\n",
    "# Can you predict how many zeros 50! will have?"
   ]
  }
 ],
 "metadata": {
  "kernelspec": {
   "display_name": "Python 3",
   "language": "python",
   "name": "python3"
  },
  "language_info": {
   "name": "python",
   "version": "3.11.9"
  }
 },
 "nbformat": 4,
 "nbformat_minor": 5
}
